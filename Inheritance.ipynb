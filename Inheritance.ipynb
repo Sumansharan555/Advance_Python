{
  "nbformat": 4,
  "nbformat_minor": 0,
  "metadata": {
    "colab": {
      "provenance": []
    },
    "kernelspec": {
      "name": "python3",
      "display_name": "Python 3"
    },
    "language_info": {
      "name": "python"
    }
  },
  "cells": [
    {
      "cell_type": "code",
      "execution_count": null,
      "metadata": {
        "id": "25w7CbtDYb4d"
      },
      "outputs": [],
      "source": []
    },
    {
      "cell_type": "markdown",
      "source": [
        "Inheritance in Python is a fundamental concept in object-oriented programming (OOP) that allows a class (known as a child or derived class) to inherit attributes and methods from another class (known as a parent or base class). This promotes code reusability and establishes a hierarchical relationship between classes.\n"
      ],
      "metadata": {
        "id": "_JG-0_VIYhLr"
      }
    },
    {
      "cell_type": "markdown",
      "source": [
        "### Key Concepts of Inheritance:\n",
        "\n",
        "1. **Base Class (Parent Class)**: The class whose properties and methods are inherited by another class.\n",
        "\n",
        "2. **Derived Class (Child Class)**: The class that inherits from the base class. It can add its own properties and methods or override existing ones.\n",
        "\n",
        "3. **Single Inheritance**: A derived class inherits from a single base class.\n",
        "\n",
        "4. **Multiple Inheritance**: A derived class can inherit from multiple base classes.\n",
        "\n",
        "5. **Method Overriding**: A derived class can provide a specific implementation of a method that is already defined in its base class.\n"
      ],
      "metadata": {
        "id": "I_5qZd7oZs7Y"
      }
    },
    {
      "cell_type": "code",
      "source": [],
      "metadata": {
        "id": "lq1_n_qwYiJe"
      },
      "execution_count": 5,
      "outputs": []
    },
    {
      "cell_type": "code",
      "source": [
        "### Syntax:\n",
        "\n",
        "# To define a derived class, you specify the base class in parentheses after the derived class name. Here’s a simple example:\n",
        "\n",
        "# ```python\n",
        "class Animal:  # Base class\n",
        "    def speak(self):\n",
        "        return \"Animal speaks\"\n",
        "\n",
        "class Dog(Animal):  # Derived class\n",
        "    def speak(self):  # Method overriding\n",
        "        return \"Woof!\"\n",
        "\n",
        "# Usage\n",
        "my_dog = Dog()\n",
        "print(my_dog.speak())  # Output: Woof!\n"
      ],
      "metadata": {
        "colab": {
          "base_uri": "https://localhost:8080/"
        },
        "id": "CUCx4LJKYoFI",
        "outputId": "c167ec9a-3c38-4f92-d41d-4c98f2957fc6"
      },
      "execution_count": 3,
      "outputs": [
        {
          "output_type": "stream",
          "name": "stdout",
          "text": [
            "Woof!\n"
          ]
        }
      ]
    },
    {
      "cell_type": "markdown",
      "source": [
        "Benefits of Inheritance:\n",
        "\n",
        "- **Code Reusability**: You can reuse existing code without rewriting it.\n",
        "- **Extensibility**: You can extend the functionality of existing classes.\n",
        "- **Polymorphism**: You can use a base class reference to refer to a derived class object, allowing for dynamic method resolution.\n"
      ],
      "metadata": {
        "id": "y5O7L-VmZJQG"
      }
    },
    {
      "cell_type": "code",
      "source": [],
      "metadata": {
        "id": "mYNFyWleZAk7"
      },
      "execution_count": 5,
      "outputs": []
    },
    {
      "cell_type": "code",
      "source": [
        "### Example of Multiple Inheritance:\n",
        "#  python\n",
        "class Flyer:\n",
        "    def fly(self):\n",
        "        return \"Flying\"\n",
        "\n",
        "class Swimmer:\n",
        "    def swim(self):\n",
        "        return \"Swimming\"\n",
        "\n",
        "class Duck(Flyer, Swimmer):  # Multiple inheritance\n",
        "    def quack(self):\n",
        "        return \"Quack!\"\n",
        "\n",
        "# Usage\n",
        "my_duck = Duck()\n",
        "print(my_duck.fly())  # Output: Flying\n",
        "print(my_duck.swim())  # Output: Swimming\n",
        "print(my_duck.quack())  # Output: Quack!\n"
      ],
      "metadata": {
        "colab": {
          "base_uri": "https://localhost:8080/"
        },
        "id": "2ybUk4GfZN1L",
        "outputId": "747df50d-2c69-4b3f-dad2-ea43ed8de86f"
      },
      "execution_count": 5,
      "outputs": [
        {
          "output_type": "stream",
          "name": "stdout",
          "text": [
            "Flying\n",
            "Swimming\n",
            "Quack!\n"
          ]
        }
      ]
    },
    {
      "cell_type": "markdown",
      "source": [
        "Conclusion:\n",
        "\n",
        "Inheritance is a powerful feature in Python that allows for the creation of a more organized and manageable code structure. By leveraging inheritance, developers can create complex systems while maintaining simplicity and clarity in their code.\n"
      ],
      "metadata": {
        "id": "eM-iHPmQZjFZ"
      }
    },
    {
      "cell_type": "code",
      "source": [
        "class Flyer:\n",
        "    def fly(self):\n",
        "        return \"Flying\"\n",
        "\n",
        "class Swimmer:\n",
        "    def swim(self):\n",
        "        return \"Swimming\"\n",
        "\n",
        "class Duck(Flyer, Swimmer):  # Multiple inheritance\n",
        "    def quack(self):\n",
        "        return \"Quack!\"\n",
        "\n",
        "# Usage\n",
        "my_duck = Duck()\n",
        "print(my_duck.fly())  # Output: Flying\n",
        "print(my_duck.swim())  # Output: Swimming\n",
        "print(my_duck.quack())  # Output: Quack!\n"
      ],
      "metadata": {
        "colab": {
          "base_uri": "https://localhost:8080/"
        },
        "id": "52yMtrjTZeUg",
        "outputId": "ec8f8152-5cc2-4336-8913-7b38fe793191"
      },
      "execution_count": 6,
      "outputs": [
        {
          "output_type": "stream",
          "name": "stdout",
          "text": [
            "Flying\n",
            "Swimming\n",
            "Quack!\n"
          ]
        }
      ]
    },
    {
      "cell_type": "code",
      "source": [],
      "metadata": {
        "id": "WMGcL8eFZ2OC"
      },
      "execution_count": null,
      "outputs": []
    }
  ]
}