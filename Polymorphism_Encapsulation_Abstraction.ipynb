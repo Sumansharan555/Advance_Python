{
  "nbformat": 4,
  "nbformat_minor": 0,
  "metadata": {
    "colab": {
      "provenance": []
    },
    "kernelspec": {
      "name": "python3",
      "display_name": "Python 3"
    },
    "language_info": {
      "name": "python"
    }
  },
  "cells": [
    {
      "cell_type": "code",
      "execution_count": null,
      "metadata": {
        "colab": {
          "base_uri": "https://localhost:8080/",
          "height": 193
        },
        "id": "uxqKrVrhOB2t",
        "outputId": "3c43e688-35cc-4393-ec74-10ac0389d511"
      },
      "outputs": [
        {
          "output_type": "error",
          "ename": "TypeError",
          "evalue": "Shape.area() missing 1 required positional argument: 'b'",
          "traceback": [
            "\u001b[0;31m---------------------------------------------------------------------------\u001b[0m",
            "\u001b[0;31mTypeError\u001b[0m                                 Traceback (most recent call last)",
            "\u001b[0;32m<ipython-input-2-0af9bcb396fd>\u001b[0m in \u001b[0;36m<cell line: 10>\u001b[0;34m()\u001b[0m\n\u001b[1;32m      8\u001b[0m \u001b[0;34m\u001b[0m\u001b[0m\n\u001b[1;32m      9\u001b[0m \u001b[0ms\u001b[0m\u001b[0;34m=\u001b[0m\u001b[0mShape\u001b[0m\u001b[0;34m(\u001b[0m\u001b[0;34m)\u001b[0m\u001b[0;34m\u001b[0m\u001b[0;34m\u001b[0m\u001b[0m\n\u001b[0;32m---> 10\u001b[0;31m \u001b[0ms\u001b[0m\u001b[0;34m.\u001b[0m\u001b[0marea\u001b[0m\u001b[0;34m(\u001b[0m\u001b[0;36m2\u001b[0m\u001b[0;34m)\u001b[0m\u001b[0;34m\u001b[0m\u001b[0;34m\u001b[0m\u001b[0m\n\u001b[0m\u001b[1;32m     11\u001b[0m \u001b[0ms\u001b[0m\u001b[0;34m.\u001b[0m\u001b[0marea\u001b[0m\u001b[0;34m(\u001b[0m\u001b[0;36m3\u001b[0m\u001b[0;34m,\u001b[0m\u001b[0;36m4\u001b[0m\u001b[0;34m)\u001b[0m\u001b[0;34m\u001b[0m\u001b[0;34m\u001b[0m\u001b[0m\n",
            "\u001b[0;31mTypeError\u001b[0m: Shape.area() missing 1 required positional argument: 'b'"
          ]
        }
      ],
      "source": [
        "# Method Overloading\n",
        "\n",
        "class Shape:\n",
        "  def area(self,radius):\n",
        "    return 3.14*radius*radius\n",
        "  def area(self,l,b):\n",
        "    return l*b\n",
        "\n",
        "s=Shape()\n",
        "s.area(2)\n",
        "s.area(3,4)"
      ]
    },
    {
      "cell_type": "code",
      "source": [
        "class Shape:\n",
        "  def area(self,a,b=0):\n",
        "    if b==0:\n",
        "      return 3.14*a*a\n",
        "    else:\n",
        "      return a*b\n",
        "\n",
        "s=Shape()\n",
        "print(s.area(2))\n",
        "print(s.area(3,4))\n"
      ],
      "metadata": {
        "colab": {
          "base_uri": "https://localhost:8080/"
        },
        "id": "gTtJL4YtPTBy",
        "outputId": "d0f60e6a-3b74-4adb-8664-02440bda22a0"
      },
      "execution_count": null,
      "outputs": [
        {
          "output_type": "stream",
          "name": "stdout",
          "text": [
            "12.56\n",
            "12\n"
          ]
        }
      ]
    },
    {
      "cell_type": "markdown",
      "source": [
        "**Encapsulation**"
      ],
      "metadata": {
        "id": "Ja_6elUVpFPm"
      }
    },
    {
      "cell_type": "code",
      "source": [
        "#Encapsulation is the concept of wrapping data(variables) & methods(functions) together as a single unit.\n",
        "#It restricts direct access to some of the object components which is a means of preventing accidental interference & misuse of the data."
      ],
      "metadata": {
        "id": "32nK0fbrQB3b"
      },
      "execution_count": null,
      "outputs": []
    },
    {
      "cell_type": "code",
      "source": [
        "#Encapsulation with Getter & Setter methods\n",
        "#Public,Private & protected variables or access modifiers"
      ],
      "metadata": {
        "id": "Rx7y6atVqRho"
      },
      "execution_count": null,
      "outputs": []
    },
    {
      "cell_type": "code",
      "source": [
        "class Person:\n",
        "    def __init__(self,name,age):\n",
        "           self.name=name #public variables\n",
        "           self.age=age   #public variables\n",
        "\n",
        "person=Person('Hari',25)\n"
      ],
      "metadata": {
        "id": "C5WPAvBrq8QT"
      },
      "execution_count": null,
      "outputs": []
    },
    {
      "cell_type": "code",
      "source": [
        "print(person.name)"
      ],
      "metadata": {
        "colab": {
          "base_uri": "https://localhost:8080/"
        },
        "id": "NgY6A7w5tRmw",
        "outputId": "d87d36fa-d89f-4ec2-bd5f-437936575508"
      },
      "execution_count": null,
      "outputs": [
        {
          "output_type": "stream",
          "name": "stdout",
          "text": [
            "Hari\n"
          ]
        }
      ]
    },
    {
      "cell_type": "code",
      "source": [
        "dir(person)"
      ],
      "metadata": {
        "colab": {
          "base_uri": "https://localhost:8080/"
        },
        "id": "4ncxlFfWvmhp",
        "outputId": "3840b6f5-c76b-420f-96b2-1fbe97056422"
      },
      "execution_count": null,
      "outputs": [
        {
          "output_type": "execute_result",
          "data": {
            "text/plain": [
              "['__class__',\n",
              " '__delattr__',\n",
              " '__dict__',\n",
              " '__dir__',\n",
              " '__doc__',\n",
              " '__eq__',\n",
              " '__format__',\n",
              " '__ge__',\n",
              " '__getattribute__',\n",
              " '__gt__',\n",
              " '__hash__',\n",
              " '__init__',\n",
              " '__init_subclass__',\n",
              " '__le__',\n",
              " '__lt__',\n",
              " '__module__',\n",
              " '__ne__',\n",
              " '__new__',\n",
              " '__reduce__',\n",
              " '__reduce_ex__',\n",
              " '__repr__',\n",
              " '__setattr__',\n",
              " '__sizeof__',\n",
              " '__str__',\n",
              " '__subclasshook__',\n",
              " '__weakref__',\n",
              " 'age',\n",
              " 'name']"
            ]
          },
          "metadata": {},
          "execution_count": 9
        }
      ]
    },
    {
      "cell_type": "code",
      "source": [
        "class Person:\n",
        "    def __init__(self,name,age,gender):\n",
        "           self.__name=name #private variables\n",
        "           self.__age=age   #private variables\n",
        "           self.gender=gender"
      ],
      "metadata": {
        "id": "RjzWt08_wOaO"
      },
      "execution_count": null,
      "outputs": []
    },
    {
      "cell_type": "code",
      "source": [
        "person=Person('Hari',25,'Male')\n",
        "dir(person)"
      ],
      "metadata": {
        "colab": {
          "base_uri": "https://localhost:8080/"
        },
        "id": "KmOLqmt3wtsV",
        "outputId": "82141c00-49a0-489d-b472-81d00181270d"
      },
      "execution_count": null,
      "outputs": [
        {
          "output_type": "execute_result",
          "data": {
            "text/plain": [
              "['_Person__age',\n",
              " '_Person__name',\n",
              " '__class__',\n",
              " '__delattr__',\n",
              " '__dict__',\n",
              " '__dir__',\n",
              " '__doc__',\n",
              " '__eq__',\n",
              " '__format__',\n",
              " '__ge__',\n",
              " '__getattribute__',\n",
              " '__gt__',\n",
              " '__hash__',\n",
              " '__init__',\n",
              " '__init_subclass__',\n",
              " '__le__',\n",
              " '__lt__',\n",
              " '__module__',\n",
              " '__ne__',\n",
              " '__new__',\n",
              " '__reduce__',\n",
              " '__reduce_ex__',\n",
              " '__repr__',\n",
              " '__setattr__',\n",
              " '__sizeof__',\n",
              " '__str__',\n",
              " '__subclasshook__',\n",
              " '__weakref__',\n",
              " 'gender']"
            ]
          },
          "metadata": {},
          "execution_count": 18
        }
      ]
    },
    {
      "cell_type": "code",
      "source": [
        "def get_name(person):\n",
        "       return person.__name"
      ],
      "metadata": {
        "id": "ncrs6sJz21Xm"
      },
      "execution_count": null,
      "outputs": []
    },
    {
      "cell_type": "code",
      "source": [
        "class Person:\n",
        "    def __init__(self,name,age,gender):\n",
        "           self._name=name #protected variables\n",
        "           self._age=age   #protected variables\n",
        "           self.gender=gender\n",
        "\n",
        "class Employee(Person):\n",
        "          def __init__(self,name,age,gender):\n",
        "             super().__init__(name,age,gender)\n",
        "\n",
        "\n",
        "employee=Employee(\"Sri\",26,'Male')\n",
        "print(employee._name)\n",
        "\n",
        "\n",
        "\n"
      ],
      "metadata": {
        "colab": {
          "base_uri": "https://localhost:8080/"
        },
        "id": "_0WUE85W1eyy",
        "outputId": "eea774dd-abc4-4f9b-fe41-7173ee78a5f4"
      },
      "execution_count": null,
      "outputs": [
        {
          "output_type": "stream",
          "name": "stdout",
          "text": [
            "Sri\n"
          ]
        }
      ]
    },
    {
      "cell_type": "code",
      "source": [
        "#Encapsulation with Getter & Setter Method\n",
        "class Person:\n",
        "     def __init__(self,name,age):\n",
        "          self.__name=name  #Private access modifier\n",
        "          self.__age=age    # Private Variable\n",
        "\n",
        "#getter method for name\n",
        "     def get_name(self):\n",
        "         return self.__name\n",
        "\n",
        "# setter method for name\n",
        "     def set_name(self,name):\n",
        "          self.__name=name\n",
        "\n",
        "#getter method for age\n",
        "     def get_age(self):\n",
        "         return self.__age\n",
        "#setter method for age\n",
        "     def set_age(self,age):\n",
        "       if age>0:\n",
        "         self.__age=age\n",
        "       else:\n",
        "        print(\"age cannot be negative\")\n",
        "\n",
        "\n",
        "person=Person(\"Hari\",25)\n",
        "\n",
        "##Access & modify private variables using getter & setter\n",
        "\n",
        "print(person.get_name())\n",
        "print(person.get_age())\n",
        "\n",
        "person.set_age(40)\n",
        "print(person.get_age())\n",
        "\n",
        "person.set_age(-3)\n",
        "\n"
      ],
      "metadata": {
        "id": "ZGIbR9P72AL_",
        "colab": {
          "base_uri": "https://localhost:8080/"
        },
        "outputId": "12dd181f-46f9-4f9d-f377-321cb2a02ab3"
      },
      "execution_count": null,
      "outputs": [
        {
          "output_type": "stream",
          "name": "stdout",
          "text": [
            "Hari\n",
            "25\n",
            "40\n",
            "age cannot be negative\n"
          ]
        }
      ]
    },
    {
      "cell_type": "markdown",
      "source": [
        "**Abstraction**"
      ],
      "metadata": {
        "id": "YUnXTl4betXH"
      }
    },
    {
      "cell_type": "code",
      "source": [
        "from abc import ABC,abstractmethod\n",
        "class BankApp:\n",
        "  def database(self):\n",
        "      print(\"Connected to Database\")\n",
        "\n",
        "  @abstractmethod\n",
        "  def security(self):\n",
        "      pass"
      ],
      "metadata": {
        "id": "EmzwQbpEip8d"
      },
      "execution_count": null,
      "outputs": []
    },
    {
      "cell_type": "code",
      "source": [
        "class BankApp(ABC):\n",
        "  def database(self):\n",
        "      print(\"Connected to Database\")\n",
        "\n",
        "  @abstractmethod\n",
        "  def security(self):\n",
        "      pass"
      ],
      "metadata": {
        "id": "15bxQT8hjGUj"
      },
      "execution_count": null,
      "outputs": []
    },
    {
      "cell_type": "code",
      "source": [
        "class mobileApp(BankApp):\n",
        "    def mobile_login(self):\n",
        "        print(\"login into mobile\")\n"
      ],
      "metadata": {
        "id": "R-Yf8qY2kNgr"
      },
      "execution_count": null,
      "outputs": []
    },
    {
      "cell_type": "code",
      "source": [
        "mob=mobileApp()"
      ],
      "metadata": {
        "colab": {
          "base_uri": "https://localhost:8080/",
          "height": 147
        },
        "id": "ryFdIKzVl1Ii",
        "outputId": "091fbbca-89f7-4c72-d389-1ca57ed3b6a0"
      },
      "execution_count": null,
      "outputs": [
        {
          "output_type": "error",
          "ename": "TypeError",
          "evalue": "Can't instantiate abstract class mobileApp with abstract method security",
          "traceback": [
            "\u001b[0;31m---------------------------------------------------------------------------\u001b[0m",
            "\u001b[0;31mTypeError\u001b[0m                                 Traceback (most recent call last)",
            "\u001b[0;32m<ipython-input-4-67e9f13b8dda>\u001b[0m in \u001b[0;36m<cell line: 0>\u001b[0;34m()\u001b[0m\n\u001b[0;32m----> 1\u001b[0;31m \u001b[0mmob\u001b[0m\u001b[0;34m=\u001b[0m\u001b[0mmobileApp\u001b[0m\u001b[0;34m(\u001b[0m\u001b[0;34m)\u001b[0m\u001b[0;34m\u001b[0m\u001b[0;34m\u001b[0m\u001b[0m\n\u001b[0m",
            "\u001b[0;31mTypeError\u001b[0m: Can't instantiate abstract class mobileApp with abstract method security"
          ]
        }
      ]
    },
    {
      "cell_type": "code",
      "source": [
        "class mobileApp(BankApp):\n",
        "    def mobile_login(self):\n",
        "        print(\"login into mobile\")\n",
        "    def security(self):\n",
        "       print(\"mobile Security\")"
      ],
      "metadata": {
        "id": "I_7G06exl3nq"
      },
      "execution_count": null,
      "outputs": []
    },
    {
      "cell_type": "code",
      "source": [
        "mob=mobileApp()"
      ],
      "metadata": {
        "id": "l_SSig7KmHqD"
      },
      "execution_count": null,
      "outputs": []
    },
    {
      "cell_type": "code",
      "source": [
        "mob.database()"
      ],
      "metadata": {
        "colab": {
          "base_uri": "https://localhost:8080/"
        },
        "id": "-A9MPim5mKl6",
        "outputId": "3afafff8-50c2-47b8-e8f2-33cea3ac9b7c"
      },
      "execution_count": null,
      "outputs": [
        {
          "output_type": "stream",
          "name": "stdout",
          "text": [
            "Connected to Database\n"
          ]
        }
      ]
    },
    {
      "cell_type": "code",
      "source": [
        "mob.mobile_login()"
      ],
      "metadata": {
        "colab": {
          "base_uri": "https://localhost:8080/"
        },
        "id": "NQiT_v8XmXQa",
        "outputId": "95b19783-39d0-4c9d-e645-2e534628a901"
      },
      "execution_count": null,
      "outputs": [
        {
          "output_type": "stream",
          "name": "stdout",
          "text": [
            "login into mobile\n"
          ]
        }
      ]
    },
    {
      "cell_type": "code",
      "source": [
        "mob.security()"
      ],
      "metadata": {
        "colab": {
          "base_uri": "https://localhost:8080/"
        },
        "id": "g8TOYeNQmma6",
        "outputId": "fac82ac4-e2f0-4498-82eb-df3accf85332"
      },
      "execution_count": null,
      "outputs": [
        {
          "output_type": "stream",
          "name": "stdout",
          "text": [
            "mobile Security\n"
          ]
        }
      ]
    }
  ]
}